{
 "cells": [
  {
   "cell_type": "code",
   "execution_count": 8,
   "id": "8bc483e0",
   "metadata": {},
   "outputs": [],
   "source": [
    "!python -m tkinter"
   ]
  },
  {
   "cell_type": "code",
   "execution_count": 9,
   "id": "c19e105f",
   "metadata": {},
   "outputs": [],
   "source": [
    "from tkinter import *\n",
    "from tkinter import filedialog\n",
    "from PIL import ImageTk, Image\n",
    "import imageai\n",
    "from imageai.Detection import ObjectDetection\n"
   ]
  },
  {
   "cell_type": "code",
   "execution_count": 19,
   "id": "5b60b08f",
   "metadata": {},
   "outputs": [
    {
     "name": "stderr",
     "output_type": "stream",
     "text": [
      "C:\\Users\\gabri\\anaconda3\\lib\\site-packages\\torchvision\\models\\_utils.py:208: UserWarning: The parameter 'pretrained' is deprecated since 0.13 and may be removed in the future, please use 'weights' instead.\n",
      "  warnings.warn(\n",
      "C:\\Users\\gabri\\anaconda3\\lib\\site-packages\\torchvision\\models\\_utils.py:223: UserWarning: Arguments other than a weight enum or `None` for 'weights' are deprecated since 0.13 and may be removed in the future. The current behavior is equivalent to passing `weights=None`.\n",
      "  warnings.warn(msg)\n"
     ]
    }
   ],
   "source": [
    "import os\n",
    "from tkinter import Tk, filedialog, Label, Button\n",
    "from PIL import ImageTk, Image\n",
    "from imageai.Classification.Custom import CustomImageClassification\n",
    "\n",
    "def process_image(): \n",
    "    global image  \n",
    "    file_path = filedialog.askopenfilename()\n",
    "    \n",
    "    if file_path:\n",
    "        try:\n",
    "            image = Image.open(file_path)\n",
    "            image = image.resize((400, 400)) \n",
    "\n",
    "            photo_image = ImageTk.PhotoImage(image) \n",
    "            image_label.configure(image=photo_image)\n",
    "            image_label.image = photo_image\n",
    "\n",
    "            predictions, probabilities = prediction.classifyImage(file_path, result_count=3)\n",
    "            max_index = probabilities.index(max(probabilities))\n",
    "            result_text = f\"Resultado: {predictions[max_index]}\"\n",
    "            result_label.configure(text=result_text)\n",
    "            # Outra alternativa é imprimir cada opção e a porcentagem: \n",
    "            #     result_text = \"\"\n",
    "            #     for eachPrediction, eachProbability in zip(predictions, probabilities):\n",
    "            #         result_text += f\"{eachPrediction}: {eachProbability}\\n\"\n",
    "            #     result_label.configure(text=result_text)\n",
    "        except Exception as e:\n",
    "                result_label.configure(text=\"Erro ao processar a imagem\")\n",
    "                print(f\"Erro: {str(e)}\")\n",
    "    else:\n",
    "        result_label.configure(text=\"Nenhuma imagem selecionada\")\n",
    "\n",
    "model_dir = \"data/models\"\n",
    "model_path = os.path.join(model_dir, \"resnet50-data-test_acc_0.92424_epoch-94.pt\")\n",
    "json_path = os.path.join(model_dir, \"data_model_classes.json\") \n",
    "\n",
    "prediction = CustomImageClassification()\n",
    "prediction.setModelTypeAsResNet50() \n",
    "prediction.setModelPath(model_path)\n",
    "prediction.setJsonPath(json_path) \n",
    "prediction.loadModel()\n",
    "\n",
    "\n",
    "root = Tk() \n",
    "root.title(\"Interface da IA\")\n",
    "\n",
    "image_label = Label(root)\n",
    "image_label.pack()\n",
    "\n",
    "result_label = Label(root, font=(\"Arial\", 20),padx=20, pady=20, fg=\"#4F4F4F\")\n",
    "result_label.pack()\n",
    "\n",
    "button = Button(root, text=\"Selecionar Imagem\", height=2, width=40, font=(\"Arial\", 14),\n",
    "                bg=\"#6A5ACD\", fg=\"white\", border=0, activebackground=\"#836FFF\", \n",
    "                activeforeground=\"gray\", command=process_image)\n",
    "button.pack()\n",
    "\n",
    "root.mainloop()\n"
   ]
  },
  {
   "cell_type": "code",
   "execution_count": null,
   "id": "5723dce6",
   "metadata": {},
   "outputs": [],
   "source": []
  }
 ],
 "metadata": {
  "kernelspec": {
   "display_name": "Python 3 (ipykernel)",
   "language": "python",
   "name": "python3"
  },
  "language_info": {
   "codemirror_mode": {
    "name": "ipython",
    "version": 3
   },
   "file_extension": ".py",
   "mimetype": "text/x-python",
   "name": "python",
   "nbconvert_exporter": "python",
   "pygments_lexer": "ipython3",
   "version": "3.10.9"
  }
 },
 "nbformat": 4,
 "nbformat_minor": 5
}

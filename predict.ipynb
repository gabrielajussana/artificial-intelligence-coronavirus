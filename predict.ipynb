{
 "cells": [
  {
   "cell_type": "code",
   "execution_count": 8,
   "id": "8bc483e0",
   "metadata": {},
   "outputs": [],
   "source": [
    "!python -m tkinter"
   ]
  },
  {
   "cell_type": "code",
   "execution_count": 9,
   "id": "c19e105f",
   "metadata": {},
   "outputs": [],
   "source": [
    "from tkinter import *\n",
    "from tkinter import filedialog\n",
    "from PIL import ImageTk, Image\n",
    "import imageai\n",
    "from imageai.Detection import ObjectDetection\n"
   ]
  },
  {
   "cell_type": "code",
   "execution_count": 31,
   "id": "5b60b08f",
   "metadata": {},
   "outputs": [],
   "source": [
    "import os\n",
    "from tkinter import Tk, filedialog, Label, Button\n",
    "from PIL import ImageTk, Image\n",
    "from imageai.Classification.Custom import CustomImageClassification\n",
    "\n",
    "def process_image():\n",
    "    global image  \n",
    "\n",
    "    file_path = filedialog.askopenfilename()\n",
    "\n",
    "    image = Image.open(file_path)\n",
    "    image = image.resize((400, 400))\n",
    "    \n",
    "\n",
    "    photo_image = ImageTk.PhotoImage(image)\n",
    "    image_label.configure(image=photo_image)\n",
    "    image_label.image = photo_image\n",
    "\n",
    "    predictions, probabilities = prediction.classifyImage(file_path, result_count=3)\n",
    "    result_text = \"\"\n",
    "    for eachPrediction, eachProbability in zip(predictions, probabilities):\n",
    "        result_text += f\"{eachPrediction}: {eachProbability}\\n\"\n",
    "    result_label.configure(text=result_text)\n",
    "\n",
    "model_dir = \"data/models\"\n",
    "model_path = os.path.join(model_dir, \"resnet50-data-test_acc_0.74242_epoch-118.pt\")\n",
    "json_path = os.path.join(model_dir, \"data_model_classes.json\")\n",
    "\n",
    "prediction = CustomImageClassification()\n",
    "prediction.setModelTypeAsResNet50()\n",
    "prediction.setModelPath(model_path)\n",
    "prediction.setJsonPath(json_path)\n",
    "prediction.loadModel()\n",
    "\n",
    "root = Tk()\n",
    "root.title(\"Interface da IA\")\n",
    "\n",
    "image_label = Label(root)\n",
    "image_label.pack()\n",
    "\n",
    "result_label = Label(root)\n",
    "result_label.pack()\n",
    "\n",
    "button = Button(root, text=\"Selecionar Imagem\", command=process_image)\n",
    "button.pack()\n",
    "\n",
    "root.mainloop()\n"
   ]
  }
 ],
 "metadata": {
  "kernelspec": {
   "display_name": "Python 3 (ipykernel)",
   "language": "python",
   "name": "python3"
  },
  "language_info": {
   "codemirror_mode": {
    "name": "ipython",
    "version": 3
   },
   "file_extension": ".py",
   "mimetype": "text/x-python",
   "name": "python",
   "nbconvert_exporter": "python",
   "pygments_lexer": "ipython3",
   "version": "3.10.9"
  }
 },
 "nbformat": 4,
 "nbformat_minor": 5
}
